{
 "cells": [
  {
   "cell_type": "markdown",
   "metadata": {},
   "source": [
    "# import library & define functions"
   ]
  },
  {
   "cell_type": "code",
   "execution_count": 1,
   "metadata": {
    "ExecuteTime": {
     "end_time": "2020-09-22T03:43:01.548323Z",
     "start_time": "2020-09-22T03:43:00.959198Z"
    }
   },
   "outputs": [
    {
     "name": "stderr",
     "output_type": "stream",
     "text": [
      "/Users/ikk/.pyenv/versions/3.6.8/envs/python3/lib/python3.6/site-packages/pandas/compat/__init__.py:117: UserWarning: Could not import the lzma module. Your installed Python is incomplete. Attempting to use lzma compression will result in a RuntimeError.\n",
      "  warnings.warn(msg)\n"
     ]
    },
    {
     "data": {
      "text/plain": [
       "<module 'sudoku' from '/Users/ikk/python/code/sudoku/sudoku.py'>"
      ]
     },
     "execution_count": 1,
     "metadata": {},
     "output_type": "execute_result"
    }
   ],
   "source": [
    "import pandas as pd\n",
    "import numpy as np\n",
    "import sudoku\n",
    "import importlib\n",
    "importlib.reload(sudoku)"
   ]
  },
  {
   "cell_type": "markdown",
   "metadata": {},
   "source": [
    "# import data"
   ]
  },
  {
   "cell_type": "code",
   "execution_count": 2,
   "metadata": {
    "ExecuteTime": {
     "end_time": "2020-09-22T03:43:01.971712Z",
     "start_time": "2020-09-22T03:43:01.550352Z"
    }
   },
   "outputs": [
    {
     "name": "stdout",
     "output_type": "stream",
     "text": [
      "imported data: null size: 59\n"
     ]
    },
    {
     "data": {
      "text/html": [
       "<style  type=\"text/css\" >\n",
       "    #T_b70338b4_fc85_11ea_84dc_faffc2320ba4row0_col0 {\n",
       "            background-color:  red;\n",
       "        }    #T_b70338b4_fc85_11ea_84dc_faffc2320ba4row0_col1 {\n",
       "            background-color:  red;\n",
       "        }    #T_b70338b4_fc85_11ea_84dc_faffc2320ba4row0_col2 {\n",
       "            background-color:  red;\n",
       "        }    #T_b70338b4_fc85_11ea_84dc_faffc2320ba4row0_col3 {\n",
       "            background-color:  red;\n",
       "        }    #T_b70338b4_fc85_11ea_84dc_faffc2320ba4row0_col4 {\n",
       "            background-color:  red;\n",
       "        }    #T_b70338b4_fc85_11ea_84dc_faffc2320ba4row0_col7 {\n",
       "            background-color:  red;\n",
       "        }    #T_b70338b4_fc85_11ea_84dc_faffc2320ba4row0_col8 {\n",
       "            background-color:  red;\n",
       "        }    #T_b70338b4_fc85_11ea_84dc_faffc2320ba4row1_col0 {\n",
       "            background-color:  red;\n",
       "        }    #T_b70338b4_fc85_11ea_84dc_faffc2320ba4row1_col1 {\n",
       "            background-color:  red;\n",
       "        }    #T_b70338b4_fc85_11ea_84dc_faffc2320ba4row1_col2 {\n",
       "            background-color:  red;\n",
       "        }    #T_b70338b4_fc85_11ea_84dc_faffc2320ba4row1_col3 {\n",
       "            background-color:  red;\n",
       "        }    #T_b70338b4_fc85_11ea_84dc_faffc2320ba4row1_col4 {\n",
       "            background-color:  red;\n",
       "        }    #T_b70338b4_fc85_11ea_84dc_faffc2320ba4row1_col6 {\n",
       "            background-color:  red;\n",
       "        }    #T_b70338b4_fc85_11ea_84dc_faffc2320ba4row1_col7 {\n",
       "            background-color:  red;\n",
       "        }    #T_b70338b4_fc85_11ea_84dc_faffc2320ba4row1_col8 {\n",
       "            background-color:  red;\n",
       "        }    #T_b70338b4_fc85_11ea_84dc_faffc2320ba4row2_col0 {\n",
       "            background-color:  red;\n",
       "        }    #T_b70338b4_fc85_11ea_84dc_faffc2320ba4row2_col2 {\n",
       "            background-color:  red;\n",
       "        }    #T_b70338b4_fc85_11ea_84dc_faffc2320ba4row2_col3 {\n",
       "            background-color:  red;\n",
       "        }    #T_b70338b4_fc85_11ea_84dc_faffc2320ba4row2_col4 {\n",
       "            background-color:  red;\n",
       "        }    #T_b70338b4_fc85_11ea_84dc_faffc2320ba4row2_col5 {\n",
       "            background-color:  red;\n",
       "        }    #T_b70338b4_fc85_11ea_84dc_faffc2320ba4row2_col6 {\n",
       "            background-color:  red;\n",
       "        }    #T_b70338b4_fc85_11ea_84dc_faffc2320ba4row3_col1 {\n",
       "            background-color:  red;\n",
       "        }    #T_b70338b4_fc85_11ea_84dc_faffc2320ba4row3_col3 {\n",
       "            background-color:  red;\n",
       "        }    #T_b70338b4_fc85_11ea_84dc_faffc2320ba4row3_col4 {\n",
       "            background-color:  red;\n",
       "        }    #T_b70338b4_fc85_11ea_84dc_faffc2320ba4row3_col5 {\n",
       "            background-color:  red;\n",
       "        }    #T_b70338b4_fc85_11ea_84dc_faffc2320ba4row3_col6 {\n",
       "            background-color:  red;\n",
       "        }    #T_b70338b4_fc85_11ea_84dc_faffc2320ba4row3_col7 {\n",
       "            background-color:  red;\n",
       "        }    #T_b70338b4_fc85_11ea_84dc_faffc2320ba4row3_col8 {\n",
       "            background-color:  red;\n",
       "        }    #T_b70338b4_fc85_11ea_84dc_faffc2320ba4row4_col1 {\n",
       "            background-color:  red;\n",
       "        }    #T_b70338b4_fc85_11ea_84dc_faffc2320ba4row4_col2 {\n",
       "            background-color:  red;\n",
       "        }    #T_b70338b4_fc85_11ea_84dc_faffc2320ba4row4_col3 {\n",
       "            background-color:  red;\n",
       "        }    #T_b70338b4_fc85_11ea_84dc_faffc2320ba4row4_col5 {\n",
       "            background-color:  red;\n",
       "        }    #T_b70338b4_fc85_11ea_84dc_faffc2320ba4row4_col6 {\n",
       "            background-color:  red;\n",
       "        }    #T_b70338b4_fc85_11ea_84dc_faffc2320ba4row4_col7 {\n",
       "            background-color:  red;\n",
       "        }    #T_b70338b4_fc85_11ea_84dc_faffc2320ba4row5_col0 {\n",
       "            background-color:  red;\n",
       "        }    #T_b70338b4_fc85_11ea_84dc_faffc2320ba4row5_col1 {\n",
       "            background-color:  red;\n",
       "        }    #T_b70338b4_fc85_11ea_84dc_faffc2320ba4row5_col2 {\n",
       "            background-color:  red;\n",
       "        }    #T_b70338b4_fc85_11ea_84dc_faffc2320ba4row5_col4 {\n",
       "            background-color:  red;\n",
       "        }    #T_b70338b4_fc85_11ea_84dc_faffc2320ba4row5_col7 {\n",
       "            background-color:  red;\n",
       "        }    #T_b70338b4_fc85_11ea_84dc_faffc2320ba4row6_col0 {\n",
       "            background-color:  red;\n",
       "        }    #T_b70338b4_fc85_11ea_84dc_faffc2320ba4row6_col1 {\n",
       "            background-color:  red;\n",
       "        }    #T_b70338b4_fc85_11ea_84dc_faffc2320ba4row6_col2 {\n",
       "            background-color:  red;\n",
       "        }    #T_b70338b4_fc85_11ea_84dc_faffc2320ba4row6_col3 {\n",
       "            background-color:  red;\n",
       "        }    #T_b70338b4_fc85_11ea_84dc_faffc2320ba4row6_col4 {\n",
       "            background-color:  red;\n",
       "        }    #T_b70338b4_fc85_11ea_84dc_faffc2320ba4row6_col5 {\n",
       "            background-color:  red;\n",
       "        }    #T_b70338b4_fc85_11ea_84dc_faffc2320ba4row6_col6 {\n",
       "            background-color:  red;\n",
       "        }    #T_b70338b4_fc85_11ea_84dc_faffc2320ba4row6_col7 {\n",
       "            background-color:  red;\n",
       "        }    #T_b70338b4_fc85_11ea_84dc_faffc2320ba4row7_col0 {\n",
       "            background-color:  red;\n",
       "        }    #T_b70338b4_fc85_11ea_84dc_faffc2320ba4row7_col3 {\n",
       "            background-color:  red;\n",
       "        }    #T_b70338b4_fc85_11ea_84dc_faffc2320ba4row7_col5 {\n",
       "            background-color:  red;\n",
       "        }    #T_b70338b4_fc85_11ea_84dc_faffc2320ba4row7_col6 {\n",
       "            background-color:  red;\n",
       "        }    #T_b70338b4_fc85_11ea_84dc_faffc2320ba4row7_col8 {\n",
       "            background-color:  red;\n",
       "        }    #T_b70338b4_fc85_11ea_84dc_faffc2320ba4row8_col0 {\n",
       "            background-color:  red;\n",
       "        }    #T_b70338b4_fc85_11ea_84dc_faffc2320ba4row8_col3 {\n",
       "            background-color:  red;\n",
       "        }    #T_b70338b4_fc85_11ea_84dc_faffc2320ba4row8_col4 {\n",
       "            background-color:  red;\n",
       "        }    #T_b70338b4_fc85_11ea_84dc_faffc2320ba4row8_col5 {\n",
       "            background-color:  red;\n",
       "        }    #T_b70338b4_fc85_11ea_84dc_faffc2320ba4row8_col6 {\n",
       "            background-color:  red;\n",
       "        }    #T_b70338b4_fc85_11ea_84dc_faffc2320ba4row8_col7 {\n",
       "            background-color:  red;\n",
       "        }    #T_b70338b4_fc85_11ea_84dc_faffc2320ba4row8_col8 {\n",
       "            background-color:  red;\n",
       "        }</style><table id=\"T_b70338b4_fc85_11ea_84dc_faffc2320ba4\" ><thead>    <tr>        <th class=\"blank level0\" ></th>        <th class=\"col_heading level0 col0\" >0</th>        <th class=\"col_heading level0 col1\" >1</th>        <th class=\"col_heading level0 col2\" >2</th>        <th class=\"col_heading level0 col3\" >3</th>        <th class=\"col_heading level0 col4\" >4</th>        <th class=\"col_heading level0 col5\" >5</th>        <th class=\"col_heading level0 col6\" >6</th>        <th class=\"col_heading level0 col7\" >7</th>        <th class=\"col_heading level0 col8\" >8</th>    </tr></thead><tbody>\n",
       "                <tr>\n",
       "                        <th id=\"T_b70338b4_fc85_11ea_84dc_faffc2320ba4level0_row0\" class=\"row_heading level0 row0\" >0</th>\n",
       "                        <td id=\"T_b70338b4_fc85_11ea_84dc_faffc2320ba4row0_col0\" class=\"data row0 col0\" >None</td>\n",
       "                        <td id=\"T_b70338b4_fc85_11ea_84dc_faffc2320ba4row0_col1\" class=\"data row0 col1\" >None</td>\n",
       "                        <td id=\"T_b70338b4_fc85_11ea_84dc_faffc2320ba4row0_col2\" class=\"data row0 col2\" >None</td>\n",
       "                        <td id=\"T_b70338b4_fc85_11ea_84dc_faffc2320ba4row0_col3\" class=\"data row0 col3\" >None</td>\n",
       "                        <td id=\"T_b70338b4_fc85_11ea_84dc_faffc2320ba4row0_col4\" class=\"data row0 col4\" >None</td>\n",
       "                        <td id=\"T_b70338b4_fc85_11ea_84dc_faffc2320ba4row0_col5\" class=\"data row0 col5\" >6</td>\n",
       "                        <td id=\"T_b70338b4_fc85_11ea_84dc_faffc2320ba4row0_col6\" class=\"data row0 col6\" >5</td>\n",
       "                        <td id=\"T_b70338b4_fc85_11ea_84dc_faffc2320ba4row0_col7\" class=\"data row0 col7\" >None</td>\n",
       "                        <td id=\"T_b70338b4_fc85_11ea_84dc_faffc2320ba4row0_col8\" class=\"data row0 col8\" >None</td>\n",
       "            </tr>\n",
       "            <tr>\n",
       "                        <th id=\"T_b70338b4_fc85_11ea_84dc_faffc2320ba4level0_row1\" class=\"row_heading level0 row1\" >1</th>\n",
       "                        <td id=\"T_b70338b4_fc85_11ea_84dc_faffc2320ba4row1_col0\" class=\"data row1 col0\" >None</td>\n",
       "                        <td id=\"T_b70338b4_fc85_11ea_84dc_faffc2320ba4row1_col1\" class=\"data row1 col1\" >None</td>\n",
       "                        <td id=\"T_b70338b4_fc85_11ea_84dc_faffc2320ba4row1_col2\" class=\"data row1 col2\" >None</td>\n",
       "                        <td id=\"T_b70338b4_fc85_11ea_84dc_faffc2320ba4row1_col3\" class=\"data row1 col3\" >None</td>\n",
       "                        <td id=\"T_b70338b4_fc85_11ea_84dc_faffc2320ba4row1_col4\" class=\"data row1 col4\" >None</td>\n",
       "                        <td id=\"T_b70338b4_fc85_11ea_84dc_faffc2320ba4row1_col5\" class=\"data row1 col5\" >1</td>\n",
       "                        <td id=\"T_b70338b4_fc85_11ea_84dc_faffc2320ba4row1_col6\" class=\"data row1 col6\" >None</td>\n",
       "                        <td id=\"T_b70338b4_fc85_11ea_84dc_faffc2320ba4row1_col7\" class=\"data row1 col7\" >None</td>\n",
       "                        <td id=\"T_b70338b4_fc85_11ea_84dc_faffc2320ba4row1_col8\" class=\"data row1 col8\" >None</td>\n",
       "            </tr>\n",
       "            <tr>\n",
       "                        <th id=\"T_b70338b4_fc85_11ea_84dc_faffc2320ba4level0_row2\" class=\"row_heading level0 row2\" >2</th>\n",
       "                        <td id=\"T_b70338b4_fc85_11ea_84dc_faffc2320ba4row2_col0\" class=\"data row2 col0\" >None</td>\n",
       "                        <td id=\"T_b70338b4_fc85_11ea_84dc_faffc2320ba4row2_col1\" class=\"data row2 col1\" >7</td>\n",
       "                        <td id=\"T_b70338b4_fc85_11ea_84dc_faffc2320ba4row2_col2\" class=\"data row2 col2\" >None</td>\n",
       "                        <td id=\"T_b70338b4_fc85_11ea_84dc_faffc2320ba4row2_col3\" class=\"data row2 col3\" >None</td>\n",
       "                        <td id=\"T_b70338b4_fc85_11ea_84dc_faffc2320ba4row2_col4\" class=\"data row2 col4\" >None</td>\n",
       "                        <td id=\"T_b70338b4_fc85_11ea_84dc_faffc2320ba4row2_col5\" class=\"data row2 col5\" >None</td>\n",
       "                        <td id=\"T_b70338b4_fc85_11ea_84dc_faffc2320ba4row2_col6\" class=\"data row2 col6\" >None</td>\n",
       "                        <td id=\"T_b70338b4_fc85_11ea_84dc_faffc2320ba4row2_col7\" class=\"data row2 col7\" >2</td>\n",
       "                        <td id=\"T_b70338b4_fc85_11ea_84dc_faffc2320ba4row2_col8\" class=\"data row2 col8\" >3</td>\n",
       "            </tr>\n",
       "            <tr>\n",
       "                        <th id=\"T_b70338b4_fc85_11ea_84dc_faffc2320ba4level0_row3\" class=\"row_heading level0 row3\" >3</th>\n",
       "                        <td id=\"T_b70338b4_fc85_11ea_84dc_faffc2320ba4row3_col0\" class=\"data row3 col0\" >4</td>\n",
       "                        <td id=\"T_b70338b4_fc85_11ea_84dc_faffc2320ba4row3_col1\" class=\"data row3 col1\" >None</td>\n",
       "                        <td id=\"T_b70338b4_fc85_11ea_84dc_faffc2320ba4row3_col2\" class=\"data row3 col2\" >1</td>\n",
       "                        <td id=\"T_b70338b4_fc85_11ea_84dc_faffc2320ba4row3_col3\" class=\"data row3 col3\" >None</td>\n",
       "                        <td id=\"T_b70338b4_fc85_11ea_84dc_faffc2320ba4row3_col4\" class=\"data row3 col4\" >None</td>\n",
       "                        <td id=\"T_b70338b4_fc85_11ea_84dc_faffc2320ba4row3_col5\" class=\"data row3 col5\" >None</td>\n",
       "                        <td id=\"T_b70338b4_fc85_11ea_84dc_faffc2320ba4row3_col6\" class=\"data row3 col6\" >None</td>\n",
       "                        <td id=\"T_b70338b4_fc85_11ea_84dc_faffc2320ba4row3_col7\" class=\"data row3 col7\" >None</td>\n",
       "                        <td id=\"T_b70338b4_fc85_11ea_84dc_faffc2320ba4row3_col8\" class=\"data row3 col8\" >None</td>\n",
       "            </tr>\n",
       "            <tr>\n",
       "                        <th id=\"T_b70338b4_fc85_11ea_84dc_faffc2320ba4level0_row4\" class=\"row_heading level0 row4\" >4</th>\n",
       "                        <td id=\"T_b70338b4_fc85_11ea_84dc_faffc2320ba4row4_col0\" class=\"data row4 col0\" >9</td>\n",
       "                        <td id=\"T_b70338b4_fc85_11ea_84dc_faffc2320ba4row4_col1\" class=\"data row4 col1\" >None</td>\n",
       "                        <td id=\"T_b70338b4_fc85_11ea_84dc_faffc2320ba4row4_col2\" class=\"data row4 col2\" >None</td>\n",
       "                        <td id=\"T_b70338b4_fc85_11ea_84dc_faffc2320ba4row4_col3\" class=\"data row4 col3\" >None</td>\n",
       "                        <td id=\"T_b70338b4_fc85_11ea_84dc_faffc2320ba4row4_col4\" class=\"data row4 col4\" >5</td>\n",
       "                        <td id=\"T_b70338b4_fc85_11ea_84dc_faffc2320ba4row4_col5\" class=\"data row4 col5\" >None</td>\n",
       "                        <td id=\"T_b70338b4_fc85_11ea_84dc_faffc2320ba4row4_col6\" class=\"data row4 col6\" >None</td>\n",
       "                        <td id=\"T_b70338b4_fc85_11ea_84dc_faffc2320ba4row4_col7\" class=\"data row4 col7\" >None</td>\n",
       "                        <td id=\"T_b70338b4_fc85_11ea_84dc_faffc2320ba4row4_col8\" class=\"data row4 col8\" >6</td>\n",
       "            </tr>\n",
       "            <tr>\n",
       "                        <th id=\"T_b70338b4_fc85_11ea_84dc_faffc2320ba4level0_row5\" class=\"row_heading level0 row5\" >5</th>\n",
       "                        <td id=\"T_b70338b4_fc85_11ea_84dc_faffc2320ba4row5_col0\" class=\"data row5 col0\" >None</td>\n",
       "                        <td id=\"T_b70338b4_fc85_11ea_84dc_faffc2320ba4row5_col1\" class=\"data row5 col1\" >None</td>\n",
       "                        <td id=\"T_b70338b4_fc85_11ea_84dc_faffc2320ba4row5_col2\" class=\"data row5 col2\" >None</td>\n",
       "                        <td id=\"T_b70338b4_fc85_11ea_84dc_faffc2320ba4row5_col3\" class=\"data row5 col3\" >8</td>\n",
       "                        <td id=\"T_b70338b4_fc85_11ea_84dc_faffc2320ba4row5_col4\" class=\"data row5 col4\" >None</td>\n",
       "                        <td id=\"T_b70338b4_fc85_11ea_84dc_faffc2320ba4row5_col5\" class=\"data row5 col5\" >9</td>\n",
       "                        <td id=\"T_b70338b4_fc85_11ea_84dc_faffc2320ba4row5_col6\" class=\"data row5 col6\" >1</td>\n",
       "                        <td id=\"T_b70338b4_fc85_11ea_84dc_faffc2320ba4row5_col7\" class=\"data row5 col7\" >None</td>\n",
       "                        <td id=\"T_b70338b4_fc85_11ea_84dc_faffc2320ba4row5_col8\" class=\"data row5 col8\" >2</td>\n",
       "            </tr>\n",
       "            <tr>\n",
       "                        <th id=\"T_b70338b4_fc85_11ea_84dc_faffc2320ba4level0_row6\" class=\"row_heading level0 row6\" >6</th>\n",
       "                        <td id=\"T_b70338b4_fc85_11ea_84dc_faffc2320ba4row6_col0\" class=\"data row6 col0\" >None</td>\n",
       "                        <td id=\"T_b70338b4_fc85_11ea_84dc_faffc2320ba4row6_col1\" class=\"data row6 col1\" >None</td>\n",
       "                        <td id=\"T_b70338b4_fc85_11ea_84dc_faffc2320ba4row6_col2\" class=\"data row6 col2\" >None</td>\n",
       "                        <td id=\"T_b70338b4_fc85_11ea_84dc_faffc2320ba4row6_col3\" class=\"data row6 col3\" >None</td>\n",
       "                        <td id=\"T_b70338b4_fc85_11ea_84dc_faffc2320ba4row6_col4\" class=\"data row6 col4\" >None</td>\n",
       "                        <td id=\"T_b70338b4_fc85_11ea_84dc_faffc2320ba4row6_col5\" class=\"data row6 col5\" >None</td>\n",
       "                        <td id=\"T_b70338b4_fc85_11ea_84dc_faffc2320ba4row6_col6\" class=\"data row6 col6\" >None</td>\n",
       "                        <td id=\"T_b70338b4_fc85_11ea_84dc_faffc2320ba4row6_col7\" class=\"data row6 col7\" >None</td>\n",
       "                        <td id=\"T_b70338b4_fc85_11ea_84dc_faffc2320ba4row6_col8\" class=\"data row6 col8\" >4</td>\n",
       "            </tr>\n",
       "            <tr>\n",
       "                        <th id=\"T_b70338b4_fc85_11ea_84dc_faffc2320ba4level0_row7\" class=\"row_heading level0 row7\" >7</th>\n",
       "                        <td id=\"T_b70338b4_fc85_11ea_84dc_faffc2320ba4row7_col0\" class=\"data row7 col0\" >None</td>\n",
       "                        <td id=\"T_b70338b4_fc85_11ea_84dc_faffc2320ba4row7_col1\" class=\"data row7 col1\" >8</td>\n",
       "                        <td id=\"T_b70338b4_fc85_11ea_84dc_faffc2320ba4row7_col2\" class=\"data row7 col2\" >4</td>\n",
       "                        <td id=\"T_b70338b4_fc85_11ea_84dc_faffc2320ba4row7_col3\" class=\"data row7 col3\" >None</td>\n",
       "                        <td id=\"T_b70338b4_fc85_11ea_84dc_faffc2320ba4row7_col4\" class=\"data row7 col4\" >2</td>\n",
       "                        <td id=\"T_b70338b4_fc85_11ea_84dc_faffc2320ba4row7_col5\" class=\"data row7 col5\" >None</td>\n",
       "                        <td id=\"T_b70338b4_fc85_11ea_84dc_faffc2320ba4row7_col6\" class=\"data row7 col6\" >None</td>\n",
       "                        <td id=\"T_b70338b4_fc85_11ea_84dc_faffc2320ba4row7_col7\" class=\"data row7 col7\" >3</td>\n",
       "                        <td id=\"T_b70338b4_fc85_11ea_84dc_faffc2320ba4row7_col8\" class=\"data row7 col8\" >None</td>\n",
       "            </tr>\n",
       "            <tr>\n",
       "                        <th id=\"T_b70338b4_fc85_11ea_84dc_faffc2320ba4level0_row8\" class=\"row_heading level0 row8\" >8</th>\n",
       "                        <td id=\"T_b70338b4_fc85_11ea_84dc_faffc2320ba4row8_col0\" class=\"data row8 col0\" >None</td>\n",
       "                        <td id=\"T_b70338b4_fc85_11ea_84dc_faffc2320ba4row8_col1\" class=\"data row8 col1\" >6</td>\n",
       "                        <td id=\"T_b70338b4_fc85_11ea_84dc_faffc2320ba4row8_col2\" class=\"data row8 col2\" >7</td>\n",
       "                        <td id=\"T_b70338b4_fc85_11ea_84dc_faffc2320ba4row8_col3\" class=\"data row8 col3\" >None</td>\n",
       "                        <td id=\"T_b70338b4_fc85_11ea_84dc_faffc2320ba4row8_col4\" class=\"data row8 col4\" >None</td>\n",
       "                        <td id=\"T_b70338b4_fc85_11ea_84dc_faffc2320ba4row8_col5\" class=\"data row8 col5\" >None</td>\n",
       "                        <td id=\"T_b70338b4_fc85_11ea_84dc_faffc2320ba4row8_col6\" class=\"data row8 col6\" >None</td>\n",
       "                        <td id=\"T_b70338b4_fc85_11ea_84dc_faffc2320ba4row8_col7\" class=\"data row8 col7\" >None</td>\n",
       "                        <td id=\"T_b70338b4_fc85_11ea_84dc_faffc2320ba4row8_col8\" class=\"data row8 col8\" >None</td>\n",
       "            </tr>\n",
       "    </tbody></table>"
      ],
      "text/plain": [
       "<pandas.io.formats.style.Styler at 0x11b4f0d30>"
      ]
     },
     "metadata": {},
     "output_type": "display_data"
    }
   ],
   "source": [
    "result = np.loadtxt('input_data/test_54.csv', delimiter=',', dtype='int64')\n",
    "sudoku = sudoku.Sudoku(result)"
   ]
  },
  {
   "cell_type": "markdown",
   "metadata": {},
   "source": [
    "# calc"
   ]
  },
  {
   "cell_type": "code",
   "execution_count": 3,
   "metadata": {
    "ExecuteTime": {
     "end_time": "2020-09-22T03:43:01.998775Z",
     "start_time": "2020-09-22T03:43:01.973879Z"
    }
   },
   "outputs": [
    {
     "name": "stdout",
     "output_type": "stream",
     "text": [
      "complete!\n"
     ]
    }
   ],
   "source": [
    "sudoku.calc()"
   ]
  },
  {
   "cell_type": "markdown",
   "metadata": {},
   "source": [
    "# display result"
   ]
  },
  {
   "cell_type": "code",
   "execution_count": 4,
   "metadata": {
    "ExecuteTime": {
     "end_time": "2020-09-22T03:43:02.019218Z",
     "start_time": "2020-09-22T03:43:02.001121Z"
    }
   },
   "outputs": [
    {
     "data": {
      "text/html": [
       "<style  type=\"text/css\" >\n",
       "</style><table id=\"T_b70c78b4_fc85_11ea_b7e7_faffc2320ba4\" ><thead>    <tr>        <th class=\"blank level0\" ></th>        <th class=\"col_heading level0 col0\" >0</th>        <th class=\"col_heading level0 col1\" >1</th>        <th class=\"col_heading level0 col2\" >2</th>        <th class=\"col_heading level0 col3\" >3</th>        <th class=\"col_heading level0 col4\" >4</th>        <th class=\"col_heading level0 col5\" >5</th>        <th class=\"col_heading level0 col6\" >6</th>        <th class=\"col_heading level0 col7\" >7</th>        <th class=\"col_heading level0 col8\" >8</th>    </tr></thead><tbody>\n",
       "                <tr>\n",
       "                        <th id=\"T_b70c78b4_fc85_11ea_b7e7_faffc2320ba4level0_row0\" class=\"row_heading level0 row0\" >0</th>\n",
       "                        <td id=\"T_b70c78b4_fc85_11ea_b7e7_faffc2320ba4row0_col0\" class=\"data row0 col0\" >8</td>\n",
       "                        <td id=\"T_b70c78b4_fc85_11ea_b7e7_faffc2320ba4row0_col1\" class=\"data row0 col1\" >4</td>\n",
       "                        <td id=\"T_b70c78b4_fc85_11ea_b7e7_faffc2320ba4row0_col2\" class=\"data row0 col2\" >3</td>\n",
       "                        <td id=\"T_b70c78b4_fc85_11ea_b7e7_faffc2320ba4row0_col3\" class=\"data row0 col3\" >2</td>\n",
       "                        <td id=\"T_b70c78b4_fc85_11ea_b7e7_faffc2320ba4row0_col4\" class=\"data row0 col4\" >7</td>\n",
       "                        <td id=\"T_b70c78b4_fc85_11ea_b7e7_faffc2320ba4row0_col5\" class=\"data row0 col5\" >6</td>\n",
       "                        <td id=\"T_b70c78b4_fc85_11ea_b7e7_faffc2320ba4row0_col6\" class=\"data row0 col6\" >5</td>\n",
       "                        <td id=\"T_b70c78b4_fc85_11ea_b7e7_faffc2320ba4row0_col7\" class=\"data row0 col7\" >1</td>\n",
       "                        <td id=\"T_b70c78b4_fc85_11ea_b7e7_faffc2320ba4row0_col8\" class=\"data row0 col8\" >9</td>\n",
       "            </tr>\n",
       "            <tr>\n",
       "                        <th id=\"T_b70c78b4_fc85_11ea_b7e7_faffc2320ba4level0_row1\" class=\"row_heading level0 row1\" >1</th>\n",
       "                        <td id=\"T_b70c78b4_fc85_11ea_b7e7_faffc2320ba4row1_col0\" class=\"data row1 col0\" >6</td>\n",
       "                        <td id=\"T_b70c78b4_fc85_11ea_b7e7_faffc2320ba4row1_col1\" class=\"data row1 col1\" >9</td>\n",
       "                        <td id=\"T_b70c78b4_fc85_11ea_b7e7_faffc2320ba4row1_col2\" class=\"data row1 col2\" >2</td>\n",
       "                        <td id=\"T_b70c78b4_fc85_11ea_b7e7_faffc2320ba4row1_col3\" class=\"data row1 col3\" >5</td>\n",
       "                        <td id=\"T_b70c78b4_fc85_11ea_b7e7_faffc2320ba4row1_col4\" class=\"data row1 col4\" >3</td>\n",
       "                        <td id=\"T_b70c78b4_fc85_11ea_b7e7_faffc2320ba4row1_col5\" class=\"data row1 col5\" >1</td>\n",
       "                        <td id=\"T_b70c78b4_fc85_11ea_b7e7_faffc2320ba4row1_col6\" class=\"data row1 col6\" >8</td>\n",
       "                        <td id=\"T_b70c78b4_fc85_11ea_b7e7_faffc2320ba4row1_col7\" class=\"data row1 col7\" >4</td>\n",
       "                        <td id=\"T_b70c78b4_fc85_11ea_b7e7_faffc2320ba4row1_col8\" class=\"data row1 col8\" >7</td>\n",
       "            </tr>\n",
       "            <tr>\n",
       "                        <th id=\"T_b70c78b4_fc85_11ea_b7e7_faffc2320ba4level0_row2\" class=\"row_heading level0 row2\" >2</th>\n",
       "                        <td id=\"T_b70c78b4_fc85_11ea_b7e7_faffc2320ba4row2_col0\" class=\"data row2 col0\" >1</td>\n",
       "                        <td id=\"T_b70c78b4_fc85_11ea_b7e7_faffc2320ba4row2_col1\" class=\"data row2 col1\" >7</td>\n",
       "                        <td id=\"T_b70c78b4_fc85_11ea_b7e7_faffc2320ba4row2_col2\" class=\"data row2 col2\" >5</td>\n",
       "                        <td id=\"T_b70c78b4_fc85_11ea_b7e7_faffc2320ba4row2_col3\" class=\"data row2 col3\" >4</td>\n",
       "                        <td id=\"T_b70c78b4_fc85_11ea_b7e7_faffc2320ba4row2_col4\" class=\"data row2 col4\" >9</td>\n",
       "                        <td id=\"T_b70c78b4_fc85_11ea_b7e7_faffc2320ba4row2_col5\" class=\"data row2 col5\" >8</td>\n",
       "                        <td id=\"T_b70c78b4_fc85_11ea_b7e7_faffc2320ba4row2_col6\" class=\"data row2 col6\" >6</td>\n",
       "                        <td id=\"T_b70c78b4_fc85_11ea_b7e7_faffc2320ba4row2_col7\" class=\"data row2 col7\" >2</td>\n",
       "                        <td id=\"T_b70c78b4_fc85_11ea_b7e7_faffc2320ba4row2_col8\" class=\"data row2 col8\" >3</td>\n",
       "            </tr>\n",
       "            <tr>\n",
       "                        <th id=\"T_b70c78b4_fc85_11ea_b7e7_faffc2320ba4level0_row3\" class=\"row_heading level0 row3\" >3</th>\n",
       "                        <td id=\"T_b70c78b4_fc85_11ea_b7e7_faffc2320ba4row3_col0\" class=\"data row3 col0\" >4</td>\n",
       "                        <td id=\"T_b70c78b4_fc85_11ea_b7e7_faffc2320ba4row3_col1\" class=\"data row3 col1\" >5</td>\n",
       "                        <td id=\"T_b70c78b4_fc85_11ea_b7e7_faffc2320ba4row3_col2\" class=\"data row3 col2\" >1</td>\n",
       "                        <td id=\"T_b70c78b4_fc85_11ea_b7e7_faffc2320ba4row3_col3\" class=\"data row3 col3\" >7</td>\n",
       "                        <td id=\"T_b70c78b4_fc85_11ea_b7e7_faffc2320ba4row3_col4\" class=\"data row3 col4\" >6</td>\n",
       "                        <td id=\"T_b70c78b4_fc85_11ea_b7e7_faffc2320ba4row3_col5\" class=\"data row3 col5\" >2</td>\n",
       "                        <td id=\"T_b70c78b4_fc85_11ea_b7e7_faffc2320ba4row3_col6\" class=\"data row3 col6\" >3</td>\n",
       "                        <td id=\"T_b70c78b4_fc85_11ea_b7e7_faffc2320ba4row3_col7\" class=\"data row3 col7\" >9</td>\n",
       "                        <td id=\"T_b70c78b4_fc85_11ea_b7e7_faffc2320ba4row3_col8\" class=\"data row3 col8\" >8</td>\n",
       "            </tr>\n",
       "            <tr>\n",
       "                        <th id=\"T_b70c78b4_fc85_11ea_b7e7_faffc2320ba4level0_row4\" class=\"row_heading level0 row4\" >4</th>\n",
       "                        <td id=\"T_b70c78b4_fc85_11ea_b7e7_faffc2320ba4row4_col0\" class=\"data row4 col0\" >9</td>\n",
       "                        <td id=\"T_b70c78b4_fc85_11ea_b7e7_faffc2320ba4row4_col1\" class=\"data row4 col1\" >2</td>\n",
       "                        <td id=\"T_b70c78b4_fc85_11ea_b7e7_faffc2320ba4row4_col2\" class=\"data row4 col2\" >8</td>\n",
       "                        <td id=\"T_b70c78b4_fc85_11ea_b7e7_faffc2320ba4row4_col3\" class=\"data row4 col3\" >1</td>\n",
       "                        <td id=\"T_b70c78b4_fc85_11ea_b7e7_faffc2320ba4row4_col4\" class=\"data row4 col4\" >5</td>\n",
       "                        <td id=\"T_b70c78b4_fc85_11ea_b7e7_faffc2320ba4row4_col5\" class=\"data row4 col5\" >3</td>\n",
       "                        <td id=\"T_b70c78b4_fc85_11ea_b7e7_faffc2320ba4row4_col6\" class=\"data row4 col6\" >4</td>\n",
       "                        <td id=\"T_b70c78b4_fc85_11ea_b7e7_faffc2320ba4row4_col7\" class=\"data row4 col7\" >7</td>\n",
       "                        <td id=\"T_b70c78b4_fc85_11ea_b7e7_faffc2320ba4row4_col8\" class=\"data row4 col8\" >6</td>\n",
       "            </tr>\n",
       "            <tr>\n",
       "                        <th id=\"T_b70c78b4_fc85_11ea_b7e7_faffc2320ba4level0_row5\" class=\"row_heading level0 row5\" >5</th>\n",
       "                        <td id=\"T_b70c78b4_fc85_11ea_b7e7_faffc2320ba4row5_col0\" class=\"data row5 col0\" >7</td>\n",
       "                        <td id=\"T_b70c78b4_fc85_11ea_b7e7_faffc2320ba4row5_col1\" class=\"data row5 col1\" >3</td>\n",
       "                        <td id=\"T_b70c78b4_fc85_11ea_b7e7_faffc2320ba4row5_col2\" class=\"data row5 col2\" >6</td>\n",
       "                        <td id=\"T_b70c78b4_fc85_11ea_b7e7_faffc2320ba4row5_col3\" class=\"data row5 col3\" >8</td>\n",
       "                        <td id=\"T_b70c78b4_fc85_11ea_b7e7_faffc2320ba4row5_col4\" class=\"data row5 col4\" >4</td>\n",
       "                        <td id=\"T_b70c78b4_fc85_11ea_b7e7_faffc2320ba4row5_col5\" class=\"data row5 col5\" >9</td>\n",
       "                        <td id=\"T_b70c78b4_fc85_11ea_b7e7_faffc2320ba4row5_col6\" class=\"data row5 col6\" >1</td>\n",
       "                        <td id=\"T_b70c78b4_fc85_11ea_b7e7_faffc2320ba4row5_col7\" class=\"data row5 col7\" >5</td>\n",
       "                        <td id=\"T_b70c78b4_fc85_11ea_b7e7_faffc2320ba4row5_col8\" class=\"data row5 col8\" >2</td>\n",
       "            </tr>\n",
       "            <tr>\n",
       "                        <th id=\"T_b70c78b4_fc85_11ea_b7e7_faffc2320ba4level0_row6\" class=\"row_heading level0 row6\" >6</th>\n",
       "                        <td id=\"T_b70c78b4_fc85_11ea_b7e7_faffc2320ba4row6_col0\" class=\"data row6 col0\" >2</td>\n",
       "                        <td id=\"T_b70c78b4_fc85_11ea_b7e7_faffc2320ba4row6_col1\" class=\"data row6 col1\" >1</td>\n",
       "                        <td id=\"T_b70c78b4_fc85_11ea_b7e7_faffc2320ba4row6_col2\" class=\"data row6 col2\" >9</td>\n",
       "                        <td id=\"T_b70c78b4_fc85_11ea_b7e7_faffc2320ba4row6_col3\" class=\"data row6 col3\" >3</td>\n",
       "                        <td id=\"T_b70c78b4_fc85_11ea_b7e7_faffc2320ba4row6_col4\" class=\"data row6 col4\" >8</td>\n",
       "                        <td id=\"T_b70c78b4_fc85_11ea_b7e7_faffc2320ba4row6_col5\" class=\"data row6 col5\" >5</td>\n",
       "                        <td id=\"T_b70c78b4_fc85_11ea_b7e7_faffc2320ba4row6_col6\" class=\"data row6 col6\" >7</td>\n",
       "                        <td id=\"T_b70c78b4_fc85_11ea_b7e7_faffc2320ba4row6_col7\" class=\"data row6 col7\" >6</td>\n",
       "                        <td id=\"T_b70c78b4_fc85_11ea_b7e7_faffc2320ba4row6_col8\" class=\"data row6 col8\" >4</td>\n",
       "            </tr>\n",
       "            <tr>\n",
       "                        <th id=\"T_b70c78b4_fc85_11ea_b7e7_faffc2320ba4level0_row7\" class=\"row_heading level0 row7\" >7</th>\n",
       "                        <td id=\"T_b70c78b4_fc85_11ea_b7e7_faffc2320ba4row7_col0\" class=\"data row7 col0\" >5</td>\n",
       "                        <td id=\"T_b70c78b4_fc85_11ea_b7e7_faffc2320ba4row7_col1\" class=\"data row7 col1\" >8</td>\n",
       "                        <td id=\"T_b70c78b4_fc85_11ea_b7e7_faffc2320ba4row7_col2\" class=\"data row7 col2\" >4</td>\n",
       "                        <td id=\"T_b70c78b4_fc85_11ea_b7e7_faffc2320ba4row7_col3\" class=\"data row7 col3\" >6</td>\n",
       "                        <td id=\"T_b70c78b4_fc85_11ea_b7e7_faffc2320ba4row7_col4\" class=\"data row7 col4\" >2</td>\n",
       "                        <td id=\"T_b70c78b4_fc85_11ea_b7e7_faffc2320ba4row7_col5\" class=\"data row7 col5\" >7</td>\n",
       "                        <td id=\"T_b70c78b4_fc85_11ea_b7e7_faffc2320ba4row7_col6\" class=\"data row7 col6\" >9</td>\n",
       "                        <td id=\"T_b70c78b4_fc85_11ea_b7e7_faffc2320ba4row7_col7\" class=\"data row7 col7\" >3</td>\n",
       "                        <td id=\"T_b70c78b4_fc85_11ea_b7e7_faffc2320ba4row7_col8\" class=\"data row7 col8\" >1</td>\n",
       "            </tr>\n",
       "            <tr>\n",
       "                        <th id=\"T_b70c78b4_fc85_11ea_b7e7_faffc2320ba4level0_row8\" class=\"row_heading level0 row8\" >8</th>\n",
       "                        <td id=\"T_b70c78b4_fc85_11ea_b7e7_faffc2320ba4row8_col0\" class=\"data row8 col0\" >3</td>\n",
       "                        <td id=\"T_b70c78b4_fc85_11ea_b7e7_faffc2320ba4row8_col1\" class=\"data row8 col1\" >6</td>\n",
       "                        <td id=\"T_b70c78b4_fc85_11ea_b7e7_faffc2320ba4row8_col2\" class=\"data row8 col2\" >7</td>\n",
       "                        <td id=\"T_b70c78b4_fc85_11ea_b7e7_faffc2320ba4row8_col3\" class=\"data row8 col3\" >9</td>\n",
       "                        <td id=\"T_b70c78b4_fc85_11ea_b7e7_faffc2320ba4row8_col4\" class=\"data row8 col4\" >1</td>\n",
       "                        <td id=\"T_b70c78b4_fc85_11ea_b7e7_faffc2320ba4row8_col5\" class=\"data row8 col5\" >4</td>\n",
       "                        <td id=\"T_b70c78b4_fc85_11ea_b7e7_faffc2320ba4row8_col6\" class=\"data row8 col6\" >2</td>\n",
       "                        <td id=\"T_b70c78b4_fc85_11ea_b7e7_faffc2320ba4row8_col7\" class=\"data row8 col7\" >8</td>\n",
       "                        <td id=\"T_b70c78b4_fc85_11ea_b7e7_faffc2320ba4row8_col8\" class=\"data row8 col8\" >5</td>\n",
       "            </tr>\n",
       "    </tbody></table>"
      ],
      "text/plain": [
       "<pandas.io.formats.style.Styler at 0x10dd091d0>"
      ]
     },
     "metadata": {},
     "output_type": "display_data"
    }
   ],
   "source": [
    "sudoku.display_result()"
   ]
  },
  {
   "cell_type": "markdown",
   "metadata": {},
   "source": [
    "# display remaining candidate (if failed)"
   ]
  },
  {
   "cell_type": "code",
   "execution_count": 5,
   "metadata": {
    "ExecuteTime": {
     "end_time": "2020-09-22T03:43:02.023448Z",
     "start_time": "2020-09-22T03:43:02.020805Z"
    },
    "scrolled": true
   },
   "outputs": [],
   "source": [
    "sudoku.display_remaining_candidate()"
   ]
  }
 ],
 "metadata": {
  "kernelspec": {
   "display_name": "Python 3",
   "language": "python",
   "name": "python3"
  },
  "language_info": {
   "codemirror_mode": {
    "name": "ipython",
    "version": 3
   },
   "file_extension": ".py",
   "mimetype": "text/x-python",
   "name": "python",
   "nbconvert_exporter": "python",
   "pygments_lexer": "ipython3",
   "version": "3.6.8"
  },
  "toc": {
   "base_numbering": 1,
   "nav_menu": {},
   "number_sections": true,
   "sideBar": true,
   "skip_h1_title": false,
   "title_cell": "Table of Contents",
   "title_sidebar": "Contents",
   "toc_cell": false,
   "toc_position": {},
   "toc_section_display": true,
   "toc_window_display": false
  }
 },
 "nbformat": 4,
 "nbformat_minor": 2
}
